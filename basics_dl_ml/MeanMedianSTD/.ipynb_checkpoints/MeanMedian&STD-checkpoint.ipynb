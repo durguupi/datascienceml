{
 "cells": [
  {
   "cell_type": "markdown",
   "id": "60ca30ab",
   "metadata": {},
   "source": [
    "## Mean Median & Standard Deviation"
   ]
  },
  {
   "cell_type": "code",
   "execution_count": 1,
   "id": "cb6b47a9",
   "metadata": {},
   "outputs": [
    {
     "name": "stdout",
     "output_type": "stream",
     "text": [
      "Mean: 5.0\n",
      "Median: 5.0\n",
      "Standard deviation: 2.8284271247461903\n"
     ]
    }
   ],
   "source": [
    "import numpy as np\n",
    "\n",
    "# Define a dataset\n",
    "dataset = [1, 3, 5, 7, 9]\n",
    "\n",
    "# Calculate the mean of the dataset\n",
    "mean = np.mean(dataset)\n",
    "print(\"Mean:\", mean)\n",
    "\n",
    "# Calculate the median of the dataset\n",
    "median = np.median(dataset)\n",
    "print(\"Median:\", median)\n",
    "\n",
    "# Calculate the standard deviation of the dataset\n",
    "std = np.std(dataset)\n",
    "print(\"Standard deviation:\", std)\n"
   ]
  },
  {
   "cell_type": "markdown",
   "id": "ba829dd8",
   "metadata": {},
   "source": [
    "## Using Pandas "
   ]
  },
  {
   "cell_type": "code",
   "execution_count": 2,
   "id": "0db0e708",
   "metadata": {},
   "outputs": [],
   "source": [
    "import pandas as pd\n",
    "\n",
    "# Create a pandas DataFrame with a dataset\n",
    "df = pd.DataFrame({'Values': [2, 3, 3, 5, 6, 7, 8, 8, 9]})"
   ]
  },
  {
   "cell_type": "code",
   "execution_count": 3,
   "id": "40f42f1b",
   "metadata": {},
   "outputs": [
    {
     "data": {
      "text/html": [
       "<div>\n",
       "<style scoped>\n",
       "    .dataframe tbody tr th:only-of-type {\n",
       "        vertical-align: middle;\n",
       "    }\n",
       "\n",
       "    .dataframe tbody tr th {\n",
       "        vertical-align: top;\n",
       "    }\n",
       "\n",
       "    .dataframe thead th {\n",
       "        text-align: right;\n",
       "    }\n",
       "</style>\n",
       "<table border=\"1\" class=\"dataframe\">\n",
       "  <thead>\n",
       "    <tr style=\"text-align: right;\">\n",
       "      <th></th>\n",
       "      <th>Values</th>\n",
       "    </tr>\n",
       "  </thead>\n",
       "  <tbody>\n",
       "    <tr>\n",
       "      <th>0</th>\n",
       "      <td>2</td>\n",
       "    </tr>\n",
       "    <tr>\n",
       "      <th>1</th>\n",
       "      <td>3</td>\n",
       "    </tr>\n",
       "    <tr>\n",
       "      <th>2</th>\n",
       "      <td>3</td>\n",
       "    </tr>\n",
       "    <tr>\n",
       "      <th>3</th>\n",
       "      <td>5</td>\n",
       "    </tr>\n",
       "    <tr>\n",
       "      <th>4</th>\n",
       "      <td>6</td>\n",
       "    </tr>\n",
       "    <tr>\n",
       "      <th>5</th>\n",
       "      <td>7</td>\n",
       "    </tr>\n",
       "    <tr>\n",
       "      <th>6</th>\n",
       "      <td>8</td>\n",
       "    </tr>\n",
       "    <tr>\n",
       "      <th>7</th>\n",
       "      <td>8</td>\n",
       "    </tr>\n",
       "    <tr>\n",
       "      <th>8</th>\n",
       "      <td>9</td>\n",
       "    </tr>\n",
       "  </tbody>\n",
       "</table>\n",
       "</div>"
      ],
      "text/plain": [
       "   Values\n",
       "0       2\n",
       "1       3\n",
       "2       3\n",
       "3       5\n",
       "4       6\n",
       "5       7\n",
       "6       8\n",
       "7       8\n",
       "8       9"
      ]
     },
     "execution_count": 3,
     "metadata": {},
     "output_type": "execute_result"
    }
   ],
   "source": [
    "df"
   ]
  },
  {
   "cell_type": "code",
   "execution_count": 4,
   "id": "47031830",
   "metadata": {},
   "outputs": [
    {
     "name": "stdout",
     "output_type": "stream",
     "text": [
      "Mean: 5.666666666666667\n"
     ]
    }
   ],
   "source": [
    "# Calculate the mean of the Values column\n",
    "mean = df['Values'].mean()\n",
    "print(\"Mean:\", mean)"
   ]
  },
  {
   "cell_type": "code",
   "execution_count": 5,
   "id": "87b89609",
   "metadata": {},
   "outputs": [
    {
     "name": "stdout",
     "output_type": "stream",
     "text": [
      "Median: 6.0\n"
     ]
    }
   ],
   "source": [
    "# Calculate the median of the Values column\n",
    "median = df['Values'].median()\n",
    "print(\"Median:\", median)"
   ]
  },
  {
   "cell_type": "code",
   "execution_count": 6,
   "id": "42aea2b4",
   "metadata": {},
   "outputs": [
    {
     "name": "stdout",
     "output_type": "stream",
     "text": [
      "Standard deviation: 2.5495097567963922\n"
     ]
    }
   ],
   "source": [
    "# Calculate the standard deviation of the Values column\n",
    "std = df['Values'].std()\n",
    "print(\"Standard deviation:\", std)"
   ]
  },
  {
   "cell_type": "markdown",
   "id": "5e8fc1f7",
   "metadata": {},
   "source": [
    "## Plotting the data with matplotlib "
   ]
  },
  {
   "cell_type": "code",
   "execution_count": 25,
   "id": "40d7f99e",
   "metadata": {},
   "outputs": [
    {
     "data": {
      "image/png": "[encoded data removed]",
      "text/plain": [
       "<Figure size 640x480 with 1 Axes>"
      ]
     },
     "metadata": {},
     "output_type": "display_data"
    },
    {
     "name": "stdout",
     "output_type": "stream",
     "text": [
      "Mean: 5.666666666666667\n",
      "Median: 6.0\n",
      "Standard deviation: 2.403700850309326\n"
     ]
    }
   ],
   "source": [
    "import matplotlib.pyplot as plt\n",
    "import numpy as np\n",
    "\n",
    "# Define a dataset\n",
    "dataset = [2, 3, 3, 5, 6, 7, 8, 8, 9]\n",
    "\n",
    "# Calculate the mean, median, and standard deviation of the dataset\n",
    "mean = np.mean(dataset)\n",
    "median = np.median(dataset)\n",
    "std = np.std(dataset)\n",
    "\n",
    "# Plot the dataset as a histogram\n",
    "plt.hist(dataset, bins=5)\n",
    "\n",
    "# Plot the mean and median as vertical lines\n",
    "plt.axvline(mean, color='r', linestyle='solid', linewidth=2)\n",
    "plt.axvline(median, color='g', linestyle='dashed', linewidth=2)\n",
    "\n",
    "# Plot the standard deviation as a horizontal line\n",
    "plt.axhline(std, color='b', linestyle='dotted', linewidth=2)\n",
    "\n",
    "plt.plot(mean, label='Mean')\n",
    "plt.plot(median, label='Median')\n",
    "plt.plot(std, label=\"Standard Deviation\")\n",
    "\n",
    "plt.legend(loc='upper left')\n",
    "\n",
    "# Show the plot\n",
    "plt.show()\n",
    "\n",
    "print(\"Mean:\", mean)\n",
    "print(\"Median:\", median)\n",
    "print(\"Standard deviation:\", std)"
   ]
  },
  {
   "cell_type": "code",
   "execution_count": 24,
   "id": "2615bb11",
   "metadata": {},
   "outputs": [
    {
     "data": {
      "image/png": "[encoded data removed]",
      "text/plain": [
       "<Figure size 640x480 with 1 Axes>"
      ]
     },
     "metadata": {},
     "output_type": "display_data"
    },
    {
     "name": "stdout",
     "output_type": "stream",
     "text": [
      "Mean: 5.666666666666667\n",
      "Median: 6.0\n",
      "Standard deviation: 2.403700850309326\n"
     ]
    }
   ],
   "source": [
    "import matplotlib.pyplot as plt\n",
    "import numpy as np\n",
    "\n",
    "# Define a dataset\n",
    "dataset = [2, 3, 3, 5, 6, 7, 8, 8, 9]\n",
    "\n",
    "# Calculate the mean, median, and standard deviation of the dataset\n",
    "mean = np.mean(dataset)\n",
    "median = np.median(dataset)\n",
    "std = np.std(dataset)\n",
    "\n",
    "# Plot the dataset as a scatter plot\n",
    "plt.scatter(range(len(dataset)), dataset)\n",
    "\n",
    "# Plot the mean and median as horizontal lines\n",
    "plt.axhline(mean, color='r', linestyle='solid', linewidth=2)\n",
    "plt.axhline(median, color='g', linestyle='dashed', linewidth=2)\n",
    "\n",
    "# Plot the standard deviation as a vertical line\n",
    "plt.axvline(std, color='b', linestyle='dotted', linewidth=2)\n",
    "\n",
    "plt.plot(dataset, label='Original Data Points')\n",
    "plt.plot(mean, label='Mean')\n",
    "plt.plot(median, label='Median')\n",
    "plt.plot(std, label=\"Standard Deviation\")\n",
    "\n",
    "plt.legend(loc='best')\n",
    "\n",
    "\n",
    "# Show the plot\n",
    "plt.show()\n",
    "\n",
    "print(\"Mean:\", mean)\n",
    "print(\"Median:\", median)\n",
    "print(\"Standard deviation:\", std)\n"
   ]
  },
  {
   "cell_type": "code",
   "execution_count": null,
   "id": "64cf387f",
   "metadata": {},
   "outputs": [],
   "source": []
  }
 ],
 "metadata": {
  "kernelspec": {
   "display_name": "Python 3 (ipykernel)",
   "language": "python",
   "name": "python3"
  },
  "language_info": {
   "codemirror_mode": {
    "name": "ipython",
    "version": 3
   },
   "file_extension": ".py",
   "mimetype": "text/x-python",
   "name": "python",
   "nbconvert_exporter": "python",
   "pygments_lexer": "ipython3",
   "version": "3.9.15"
  }
 },
 "nbformat": 4,
 "nbformat_minor": 5
}
